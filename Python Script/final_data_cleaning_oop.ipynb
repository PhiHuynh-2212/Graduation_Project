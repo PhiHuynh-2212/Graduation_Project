{
 "cells": [
  {
   "cell_type": "markdown",
   "id": "2351aa23",
   "metadata": {},
   "source": [
    "### Import Lybrary"
   ]
  },
  {
   "cell_type": "code",
   "execution_count": 14,
   "id": "d38c23c7",
   "metadata": {},
   "outputs": [],
   "source": [
    "import pandas as pd"
   ]
  },
  {
   "cell_type": "code",
   "execution_count": 1,
   "id": "eb217ca4",
   "metadata": {},
   "outputs": [],
   "source": [
    "import pandas as pd\n",
    "\n",
    "file_list = [\n",
    "'C:\\FPT Polytechnic\\Project Tự Làm\\Điểm thi thpt 2020 - 2024\\diem_thi_2020_2021.csv',\n",
    "'C:\\FPT Polytechnic\\Project Tự Làm\\Điểm thi thpt 2020 - 2024\\diem_thi_thpt_2022.csv',\n",
    "'C:\\FPT Polytechnic\\Project Tự Làm\\Điểm thi thpt 2020 - 2024\\diem_thi_thpt_2023.csv',\n",
    "'C:\\FPT Polytechnic\\Project Tự Làm\\Điểm thi thpt 2020 - 2024\\diem_thi_thpt_2024.csv' \n",
    "]\n",
    "\n",
    "class NationalHighSchoolExamScore:\n",
    "    def __init__(self, file_paths):\n",
    "        self.file_paths = file_paths\n",
    "        self.dataframes = []  \n",
    "\n",
    "    def read_data(self):\n",
    "        for path in self.file_paths:\n",
    "            try:\n",
    "                df = pd.read_csv(path)\n",
    "                self.dataframes.append((path, df)) \n",
    "                print(f\"Complete reading the file: {path}\")\n",
    "            except Exception as e:\n",
    "                print(f\"Unable to read file {path}: {e}\")\n",
    "    def check_data(self):\n",
    "        if not self.dataframes:\n",
    "            print(\"No data available\")\n",
    "            return\n",
    "\n",
    "        for path, df in self.dataframes:\n",
    "            print(f\"\\n Check data: {path}\")\n",
    "            print(f\"Row numbers: {df.shape[0]}, Column numbers: {df.shape[1]}\")\n",
    "            print(\"Columns:\", list(df.columns))\n",
    "            print(\"Duplicate Values:\", df.duplicated().sum())\n",
    "            print(\"-\" * 60)\n",
    "    import pandas as pd\n",
    "\n",
    "file_list = [\n",
    "    r'C:\\FPT Polytechnic\\Project Tự Làm\\Điểm thi thpt 2020 - 2024\\diem_thi_2020_2021.csv',\n",
    "    r'C:\\FPT Polytechnic\\Project Tự Làm\\Điểm thi thpt 2020 - 2024\\diem_thi_thpt_2022.csv',\n",
    "    r'C:\\FPT Polytechnic\\Project Tự Làm\\Điểm thi thpt 2020 - 2024\\diem_thi_thpt_2023.csv',\n",
    "    r'C:\\FPT Polytechnic\\Project Tự Làm\\Điểm thi thpt 2020 - 2024\\diem_thi_thpt_2024.csv' \n",
    "]\n",
    "\n",
    "class NationalHighSchoolExamScore:\n",
    "    def __init__(self, file_paths):\n",
    "        self.file_paths = file_paths\n",
    "        self.dataframes = []\n",
    "\n",
    "    def read_data(self):\n",
    "        for path in self.file_paths:\n",
    "            try:\n",
    "                df = pd.read_csv(path)\n",
    "                self.dataframes.append((path, df))\n",
    "                print(f\"Complete reading the file: {path}\")\n",
    "            except Exception as e:\n",
    "                print(f\"Unable to read file {path}: {e}\")\n",
    "\n",
    "    def check_data(self):\n",
    "        if not self.dataframes:\n",
    "            print(\"No data available\")\n",
    "            return\n",
    "\n",
    "        for path, df in self.dataframes:\n",
    "            print(f\"\\nCheck data: {path}\")\n",
    "            print(f\"Row numbers: {df.shape[0]}, Column numbers: {df.shape[1]}\")\n",
    "            print(\"Columns:\", list(df.columns))\n",
    "            print(\"Duplicate Values:\", df.duplicated().sum())\n",
    "            print(\"-\" * 60)\n",
    "\n",
    "    def remove_duplicate(self):\n",
    "        if not self.dataframes:\n",
    "            print(\"No data to process.\")\n",
    "            return\n",
    "\n",
    "        for i, (path, df) in enumerate(self.dataframes):\n",
    "            before = df.shape[0]\n",
    "            df_cleaned = df.drop_duplicates()\n",
    "            after = df_cleaned.shape[0]\n",
    "            self.dataframes[i] = (path, df_cleaned)\n",
    "            print(f\"\\nRemove {before - after} duplicate rows from file: {path}\")"
   ]
  },
  {
   "cell_type": "code",
   "execution_count": 2,
   "id": "a49a4eb7",
   "metadata": {},
   "outputs": [
    {
     "name": "stderr",
     "output_type": "stream",
     "text": [
      "C:\\Users\\Phi Huynh\\AppData\\Local\\Temp\\ipykernel_8652\\2229503029.py:51: DtypeWarning: Columns (1,2,3) have mixed types. Specify dtype option on import or set low_memory=False.\n",
      "  df = pd.read_csv(path)\n"
     ]
    },
    {
     "name": "stdout",
     "output_type": "stream",
     "text": [
      "Complete reading the file: C:\\FPT Polytechnic\\Project Tự Làm\\Điểm thi thpt 2020 - 2024\\diem_thi_2020_2021.csv\n",
      "Complete reading the file: C:\\FPT Polytechnic\\Project Tự Làm\\Điểm thi thpt 2020 - 2024\\diem_thi_thpt_2022.csv\n",
      "Complete reading the file: C:\\FPT Polytechnic\\Project Tự Làm\\Điểm thi thpt 2020 - 2024\\diem_thi_thpt_2023.csv\n",
      "Complete reading the file: C:\\FPT Polytechnic\\Project Tự Làm\\Điểm thi thpt 2020 - 2024\\diem_thi_thpt_2024.csv\n",
      "\n",
      "Check data: C:\\FPT Polytechnic\\Project Tự Làm\\Điểm thi thpt 2020 - 2024\\diem_thi_2020_2021.csv\n",
      "Row numbers: 1857877, Column numbers: 16\n",
      "Columns: ['SBD', 'Tên', 'Ngày Sinh', 'Giới tính', 'Toán', 'Văn', 'Lý', 'Hoá', 'Sinh', 'Lịch Sử', 'Địa Lý', 'GDCD', 'Ngoại Ngữ', 'Year', 'code', 'province']\n",
      "Duplicate Values: 4591\n",
      "------------------------------------------------------------\n",
      "\n",
      "Check data: C:\\FPT Polytechnic\\Project Tự Làm\\Điểm thi thpt 2020 - 2024\\diem_thi_thpt_2022.csv\n",
      "Row numbers: 995441, Column numbers: 10\n",
      "Columns: ['sbd', 'toan', 'ngu_van', 'ngoai_ngu', 'vat_li', 'hoa_hoc', 'sinh_hoc', 'lich_su', 'dia_li', 'gdcd']\n",
      "Duplicate Values: 0\n",
      "------------------------------------------------------------\n",
      "\n",
      "Check data: C:\\FPT Polytechnic\\Project Tự Làm\\Điểm thi thpt 2020 - 2024\\diem_thi_thpt_2023.csv\n",
      "Row numbers: 1022060, Column numbers: 11\n",
      "Columns: ['sbd', 'toan', 'ngu_van', 'ngoai_ngu', 'vat_li', 'hoa_hoc', 'sinh_hoc', 'lich_su', 'dia_li', 'gdcd', 'ma_ngoai_ngu']\n",
      "Duplicate Values: 0\n",
      "------------------------------------------------------------\n",
      "\n",
      "Check data: C:\\FPT Polytechnic\\Project Tự Làm\\Điểm thi thpt 2020 - 2024\\diem_thi_thpt_2024.csv\n",
      "Row numbers: 1061605, Column numbers: 11\n",
      "Columns: ['sbd', 'toan', 'ngu_van', 'ngoai_ngu', 'vat_li', 'hoa_hoc', 'sinh_hoc', 'lich_su', 'dia_li', 'gdcd', 'ma_ngoai_ngu']\n",
      "Duplicate Values: 0\n",
      "------------------------------------------------------------\n",
      "\n",
      "Remove 4591 duplicate rows from file: C:\\FPT Polytechnic\\Project Tự Làm\\Điểm thi thpt 2020 - 2024\\diem_thi_2020_2021.csv\n",
      "\n",
      "Remove 0 duplicate rows from file: C:\\FPT Polytechnic\\Project Tự Làm\\Điểm thi thpt 2020 - 2024\\diem_thi_thpt_2022.csv\n",
      "\n",
      "Remove 0 duplicate rows from file: C:\\FPT Polytechnic\\Project Tự Làm\\Điểm thi thpt 2020 - 2024\\diem_thi_thpt_2023.csv\n",
      "\n",
      "Remove 0 duplicate rows from file: C:\\FPT Polytechnic\\Project Tự Làm\\Điểm thi thpt 2020 - 2024\\diem_thi_thpt_2024.csv\n"
     ]
    }
   ],
   "source": [
    "data = NationalHighSchoolExamScore(file_list)\n",
    "data.read_data()\n",
    "data.check_data()\n",
    "data.remove_duplicate()"
   ]
  }
 ],
 "metadata": {
  "kernelspec": {
   "display_name": "Python 3",
   "language": "python",
   "name": "python3"
  },
  "language_info": {
   "codemirror_mode": {
    "name": "ipython",
    "version": 3
   },
   "file_extension": ".py",
   "mimetype": "text/x-python",
   "name": "python",
   "nbconvert_exporter": "python",
   "pygments_lexer": "ipython3",
   "version": "3.11.9"
  }
 },
 "nbformat": 4,
 "nbformat_minor": 5
}
