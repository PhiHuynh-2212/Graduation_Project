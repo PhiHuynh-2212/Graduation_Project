{
 "cells": [
  {
   "cell_type": "markdown",
   "id": "2351aa23",
   "metadata": {},
   "source": [
    "### Import Lybrary"
   ]
  },
  {
   "cell_type": "code",
   "execution_count": 1,
   "id": "d38c23c7",
   "metadata": {},
   "outputs": [],
   "source": [
    "import pandas as pd"
   ]
  },
  {
   "cell_type": "code",
   "execution_count": 2,
   "id": "eb217ca4",
   "metadata": {},
   "outputs": [],
   "source": [
    "import pandas as pd\n",
    "\n",
    "file_list = [\n",
    "    r'C:\\FPT Polytechnic\\Project Tự Làm\\Điểm thi thpt 2020 - 2024\\diem_thi_2020_2021.csv',\n",
    "    r'C:\\FPT Polytechnic\\Project Tự Làm\\Điểm thi thpt 2020 - 2024\\diem_thi_thpt_2022.csv',\n",
    "    r'C:\\FPT Polytechnic\\Project Tự Làm\\Điểm thi thpt 2020 - 2024\\diem_thi_thpt_2023.csv',\n",
    "    r'C:\\FPT Polytechnic\\Project Tự Làm\\Điểm thi thpt 2020 - 2024\\diem_thi_thpt_2024.csv' \n",
    "]\n",
    "\n",
    "class NationalHighSchoolExamScore:\n",
    "    def __init__(self, file_paths):\n",
    "        self.file_paths = file_paths\n",
    "        self.dataframes = []\n",
    "\n",
    "    def read_data(self):\n",
    "        for path in self.file_paths:\n",
    "            try:\n",
    "                df = pd.read_csv(path)\n",
    "                self.dataframes.append((path, df))\n",
    "                print(f\"Complete reading the file: {path}\")\n",
    "            except Exception as e:\n",
    "                print(f\"Unable to read file {path}: {e}\")\n",
    "\n",
    "    def check_data(self):\n",
    "        if not self.dataframes:\n",
    "            print(\"No data available\")\n",
    "            return\n",
    "\n",
    "        for (path, df) in self.dataframes:\n",
    "            print(f\"\\nCheck data: {path}\")\n",
    "            print(f\"Row numbers: {df.shape[0]}, Column numbers: {df.shape[1]}\")\n",
    "            print(\"Columns:\", list(df.columns))\n",
    "            print(\"Duplicate Values:\", df.duplicated().sum())\n",
    "            print(\"-\" * 60)\n",
    "\n",
    "    def remove_duplicate(self):\n",
    "        if not self.dataframes:\n",
    "            print(\"No data to process.\")\n",
    "            return\n",
    "\n",
    "        for i, (path, df) in enumerate(self.dataframes):\n",
    "            before = df.shape[0]\n",
    "            df_cleaned = df.drop_duplicates()\n",
    "            after = df_cleaned.shape[0]\n",
    "            self.dataframes[i] = (path, df_cleaned)\n",
    "            print(f\"\\nRemove {before - after} duplicate rows from file: {path}\")\n",
    "            \n",
    "    def drop_specific_columns(self, columns_to_drop_by_file):\n",
    "        if not self.dataframes:\n",
    "            print(\"No data to process.\")\n",
    "            return\n",
    "        \n",
    "        for i, (path, df) in enumerate(self.dataframes):\n",
    "            for keyword, columns in columns_to_drop_by_file.items():\n",
    "                if keyword in path:\n",
    "                    existing_cols = [col for col in columns if col in df.columns]\n",
    "                    df = df.drop(columns=existing_cols)\n",
    "                    self.dataframes[i] = (path, df)\n",
    "                    print(f\"\\nDropped columns from file {path}: {existing_cols if existing_cols else 'No matching columns found'}\")\n",
    "                    break \n",
    "    def rename_columns(self, rename_rules_by_file):\n",
    "        if not self.dataframes:\n",
    "            print(\"No data to process.\")\n",
    "            return\n",
    "\n",
    "        for i, (path, df) in enumerate(self.dataframes):\n",
    "            for keyword, rename_map in rename_rules_by_file.items():\n",
    "                if keyword in path:\n",
    "                    existing_renames = {old: new for old, new in rename_map.items() if old in df.columns}\n",
    "                    df = df.rename(columns=existing_renames)\n",
    "                    self.dataframes[i] = (path, df)\n",
    "                    print(f\"\\nRenamed columns in file {path}: {existing_renames if existing_renames else 'No matching columns to rename'}\")\n",
    "                    break\n",
    "    def add_column_code_year(self):\n",
    "        if not self.dataframes:\n",
    "            print(\"No data to process.\")\n",
    "            return\n",
    "\n",
    "        for i, (path, df) in enumerate(self.dataframes):\n",
    "            if 'code' not in df.columns:\n",
    "                if 'sbd' in df.columns:\n",
    "                    try:\n",
    "                        df['code'] = df['sbd'].astype(str).str[:2]\n",
    "                        df['code'] = df['code'].astype(int)\n",
    "                        print(f\"Add column 'code' to file: {path}\")\n",
    "                    except Exception as e:\n",
    "                        print(f\"Processing error 'code' in file {path}: {e}\")\n",
    "                else:\n",
    "                    print(f\"'sbd' column not found in file: {path}\")\n",
    "            else:\n",
    "                print(f\"'code' already exists in file: {path}\")\n",
    "\n",
    "\n",
    "            if 'year' not in df.columns:\n",
    "                df['year'] = 2022 + i - 1\n",
    "            self.dataframes[i] = (path, df)\n",
    "\n",
    "\n",
    "    def check_data_column_year(self):\n",
    "        if not self.dataframes:\n",
    "            print(\"No data to process\")\n",
    "            return\n",
    "        for path, df in self.dataframes:\n",
    "            print(df[\"year\"].unique())\n",
    "\n",
    "    def merge():\n",
    "        pass\n",
    "\n",
    "data = NationalHighSchoolExamScore(file_list)"
   ]
  },
  {
   "cell_type": "code",
   "execution_count": 3,
   "id": "ee4a5e1e",
   "metadata": {},
   "outputs": [],
   "source": [
    "data = NationalHighSchoolExamScore(file_list)"
   ]
  },
  {
   "cell_type": "markdown",
   "id": "e9cfc1a8",
   "metadata": {},
   "source": [
    "#### Read Data CSV"
   ]
  },
  {
   "cell_type": "code",
   "execution_count": 4,
   "id": "a49a4eb7",
   "metadata": {},
   "outputs": [
    {
     "name": "stderr",
     "output_type": "stream",
     "text": [
      "C:\\Users\\Phi Huynh\\AppData\\Local\\Temp\\ipykernel_12004\\4143168402.py:18: DtypeWarning: Columns (1,2,3) have mixed types. Specify dtype option on import or set low_memory=False.\n",
      "  df = pd.read_csv(path)\n"
     ]
    },
    {
     "name": "stdout",
     "output_type": "stream",
     "text": [
      "Complete reading the file: C:\\FPT Polytechnic\\Project Tự Làm\\Điểm thi thpt 2020 - 2024\\diem_thi_2020_2021.csv\n",
      "Complete reading the file: C:\\FPT Polytechnic\\Project Tự Làm\\Điểm thi thpt 2020 - 2024\\diem_thi_thpt_2022.csv\n",
      "Complete reading the file: C:\\FPT Polytechnic\\Project Tự Làm\\Điểm thi thpt 2020 - 2024\\diem_thi_thpt_2023.csv\n",
      "Complete reading the file: C:\\FPT Polytechnic\\Project Tự Làm\\Điểm thi thpt 2020 - 2024\\diem_thi_thpt_2024.csv\n"
     ]
    }
   ],
   "source": [
    "data.read_data()"
   ]
  },
  {
   "cell_type": "markdown",
   "id": "234d6a84",
   "metadata": {},
   "source": [
    "#### Check Information Data"
   ]
  },
  {
   "cell_type": "code",
   "execution_count": 5,
   "id": "c526031c",
   "metadata": {},
   "outputs": [
    {
     "name": "stdout",
     "output_type": "stream",
     "text": [
      "\n",
      "Check data: C:\\FPT Polytechnic\\Project Tự Làm\\Điểm thi thpt 2020 - 2024\\diem_thi_2020_2021.csv\n",
      "Row numbers: 1857877, Column numbers: 16\n",
      "Columns: ['SBD', 'Tên', 'Ngày Sinh', 'Giới tính', 'Toán', 'Văn', 'Lý', 'Hoá', 'Sinh', 'Lịch Sử', 'Địa Lý', 'GDCD', 'Ngoại Ngữ', 'Year', 'code', 'province']\n",
      "Duplicate Values: 4591\n",
      "------------------------------------------------------------\n",
      "\n",
      "Check data: C:\\FPT Polytechnic\\Project Tự Làm\\Điểm thi thpt 2020 - 2024\\diem_thi_thpt_2022.csv\n",
      "Row numbers: 995441, Column numbers: 10\n",
      "Columns: ['sbd', 'toan', 'ngu_van', 'ngoai_ngu', 'vat_li', 'hoa_hoc', 'sinh_hoc', 'lich_su', 'dia_li', 'gdcd']\n",
      "Duplicate Values: 0\n",
      "------------------------------------------------------------\n",
      "\n",
      "Check data: C:\\FPT Polytechnic\\Project Tự Làm\\Điểm thi thpt 2020 - 2024\\diem_thi_thpt_2023.csv\n",
      "Row numbers: 1022060, Column numbers: 11\n",
      "Columns: ['sbd', 'toan', 'ngu_van', 'ngoai_ngu', 'vat_li', 'hoa_hoc', 'sinh_hoc', 'lich_su', 'dia_li', 'gdcd', 'ma_ngoai_ngu']\n",
      "Duplicate Values: 0\n",
      "------------------------------------------------------------\n",
      "\n",
      "Check data: C:\\FPT Polytechnic\\Project Tự Làm\\Điểm thi thpt 2020 - 2024\\diem_thi_thpt_2024.csv\n",
      "Row numbers: 1061605, Column numbers: 11\n",
      "Columns: ['sbd', 'toan', 'ngu_van', 'ngoai_ngu', 'vat_li', 'hoa_hoc', 'sinh_hoc', 'lich_su', 'dia_li', 'gdcd', 'ma_ngoai_ngu']\n",
      "Duplicate Values: 0\n",
      "------------------------------------------------------------\n"
     ]
    }
   ],
   "source": [
    "data.check_data()"
   ]
  },
  {
   "cell_type": "markdown",
   "id": "f6d20120",
   "metadata": {},
   "source": [
    "#### Remove Lines Duplicate"
   ]
  },
  {
   "cell_type": "code",
   "execution_count": 6,
   "id": "4dbeca84",
   "metadata": {},
   "outputs": [
    {
     "name": "stdout",
     "output_type": "stream",
     "text": [
      "\n",
      "Remove 4591 duplicate rows from file: C:\\FPT Polytechnic\\Project Tự Làm\\Điểm thi thpt 2020 - 2024\\diem_thi_2020_2021.csv\n",
      "\n",
      "Remove 0 duplicate rows from file: C:\\FPT Polytechnic\\Project Tự Làm\\Điểm thi thpt 2020 - 2024\\diem_thi_thpt_2022.csv\n",
      "\n",
      "Remove 0 duplicate rows from file: C:\\FPT Polytechnic\\Project Tự Làm\\Điểm thi thpt 2020 - 2024\\diem_thi_thpt_2023.csv\n",
      "\n",
      "Remove 0 duplicate rows from file: C:\\FPT Polytechnic\\Project Tự Làm\\Điểm thi thpt 2020 - 2024\\diem_thi_thpt_2024.csv\n"
     ]
    }
   ],
   "source": [
    "data.remove_duplicate()"
   ]
  },
  {
   "cell_type": "markdown",
   "id": "52309f9a",
   "metadata": {},
   "source": [
    "#### Check Information Data"
   ]
  },
  {
   "cell_type": "code",
   "execution_count": 7,
   "id": "974a9470",
   "metadata": {},
   "outputs": [
    {
     "name": "stdout",
     "output_type": "stream",
     "text": [
      "\n",
      "Check data: C:\\FPT Polytechnic\\Project Tự Làm\\Điểm thi thpt 2020 - 2024\\diem_thi_2020_2021.csv\n",
      "Row numbers: 1853286, Column numbers: 16\n",
      "Columns: ['SBD', 'Tên', 'Ngày Sinh', 'Giới tính', 'Toán', 'Văn', 'Lý', 'Hoá', 'Sinh', 'Lịch Sử', 'Địa Lý', 'GDCD', 'Ngoại Ngữ', 'Year', 'code', 'province']\n",
      "Duplicate Values: 0\n",
      "------------------------------------------------------------\n",
      "\n",
      "Check data: C:\\FPT Polytechnic\\Project Tự Làm\\Điểm thi thpt 2020 - 2024\\diem_thi_thpt_2022.csv\n",
      "Row numbers: 995441, Column numbers: 10\n",
      "Columns: ['sbd', 'toan', 'ngu_van', 'ngoai_ngu', 'vat_li', 'hoa_hoc', 'sinh_hoc', 'lich_su', 'dia_li', 'gdcd']\n",
      "Duplicate Values: 0\n",
      "------------------------------------------------------------\n",
      "\n",
      "Check data: C:\\FPT Polytechnic\\Project Tự Làm\\Điểm thi thpt 2020 - 2024\\diem_thi_thpt_2023.csv\n",
      "Row numbers: 1022060, Column numbers: 11\n",
      "Columns: ['sbd', 'toan', 'ngu_van', 'ngoai_ngu', 'vat_li', 'hoa_hoc', 'sinh_hoc', 'lich_su', 'dia_li', 'gdcd', 'ma_ngoai_ngu']\n",
      "Duplicate Values: 0\n",
      "------------------------------------------------------------\n",
      "\n",
      "Check data: C:\\FPT Polytechnic\\Project Tự Làm\\Điểm thi thpt 2020 - 2024\\diem_thi_thpt_2024.csv\n",
      "Row numbers: 1061605, Column numbers: 11\n",
      "Columns: ['sbd', 'toan', 'ngu_van', 'ngoai_ngu', 'vat_li', 'hoa_hoc', 'sinh_hoc', 'lich_su', 'dia_li', 'gdcd', 'ma_ngoai_ngu']\n",
      "Duplicate Values: 0\n",
      "------------------------------------------------------------\n"
     ]
    }
   ],
   "source": [
    "data.check_data()"
   ]
  },
  {
   "cell_type": "markdown",
   "id": "d720e9c6",
   "metadata": {},
   "source": [
    "#### Drop Columns Specific"
   ]
  },
  {
   "cell_type": "code",
   "execution_count": 8,
   "id": "5000768d",
   "metadata": {},
   "outputs": [
    {
     "name": "stdout",
     "output_type": "stream",
     "text": [
      "\n",
      "Dropped columns from file C:\\FPT Polytechnic\\Project Tự Làm\\Điểm thi thpt 2020 - 2024\\diem_thi_2020_2021.csv: ['Tên', 'Ngày Sinh', 'Giới tính']\n",
      "\n",
      "Dropped columns from file C:\\FPT Polytechnic\\Project Tự Làm\\Điểm thi thpt 2020 - 2024\\diem_thi_thpt_2022.csv: No matching columns found\n",
      "\n",
      "Dropped columns from file C:\\FPT Polytechnic\\Project Tự Làm\\Điểm thi thpt 2020 - 2024\\diem_thi_thpt_2023.csv: ['ma_ngoai_ngu']\n",
      "\n",
      "Dropped columns from file C:\\FPT Polytechnic\\Project Tự Làm\\Điểm thi thpt 2020 - 2024\\diem_thi_thpt_2024.csv: ['ma_ngoai_ngu']\n"
     ]
    }
   ],
   "source": [
    "columns_to_drop = {\n",
    "    \"2020_2021\": [\"Tên\", \"Ngày Sinh\", \"Giới tính\"],\n",
    "    \"2023\": [\"ma_ngoai_ngu\"],\n",
    "    \"2024\": [\"ma_ngoai_ngu\"]\n",
    "}\n",
    "data.drop_specific_columns(columns_to_drop)"
   ]
  },
  {
   "cell_type": "markdown",
   "id": "5f17d081",
   "metadata": {},
   "source": [
    "#### Check Information Data"
   ]
  },
  {
   "cell_type": "code",
   "execution_count": 9,
   "id": "1abbb03a",
   "metadata": {},
   "outputs": [
    {
     "name": "stdout",
     "output_type": "stream",
     "text": [
      "\n",
      "Check data: C:\\FPT Polytechnic\\Project Tự Làm\\Điểm thi thpt 2020 - 2024\\diem_thi_2020_2021.csv\n",
      "Row numbers: 1853286, Column numbers: 13\n",
      "Columns: ['SBD', 'Toán', 'Văn', 'Lý', 'Hoá', 'Sinh', 'Lịch Sử', 'Địa Lý', 'GDCD', 'Ngoại Ngữ', 'Year', 'code', 'province']\n",
      "Duplicate Values: 0\n",
      "------------------------------------------------------------\n",
      "\n",
      "Check data: C:\\FPT Polytechnic\\Project Tự Làm\\Điểm thi thpt 2020 - 2024\\diem_thi_thpt_2022.csv\n",
      "Row numbers: 995441, Column numbers: 10\n",
      "Columns: ['sbd', 'toan', 'ngu_van', 'ngoai_ngu', 'vat_li', 'hoa_hoc', 'sinh_hoc', 'lich_su', 'dia_li', 'gdcd']\n",
      "Duplicate Values: 0\n",
      "------------------------------------------------------------\n",
      "\n",
      "Check data: C:\\FPT Polytechnic\\Project Tự Làm\\Điểm thi thpt 2020 - 2024\\diem_thi_thpt_2023.csv\n",
      "Row numbers: 1022060, Column numbers: 10\n",
      "Columns: ['sbd', 'toan', 'ngu_van', 'ngoai_ngu', 'vat_li', 'hoa_hoc', 'sinh_hoc', 'lich_su', 'dia_li', 'gdcd']\n",
      "Duplicate Values: 0\n",
      "------------------------------------------------------------\n",
      "\n",
      "Check data: C:\\FPT Polytechnic\\Project Tự Làm\\Điểm thi thpt 2020 - 2024\\diem_thi_thpt_2024.csv\n",
      "Row numbers: 1061605, Column numbers: 10\n",
      "Columns: ['sbd', 'toan', 'ngu_van', 'ngoai_ngu', 'vat_li', 'hoa_hoc', 'sinh_hoc', 'lich_su', 'dia_li', 'gdcd']\n",
      "Duplicate Values: 0\n",
      "------------------------------------------------------------\n"
     ]
    }
   ],
   "source": [
    "data.check_data()"
   ]
  },
  {
   "cell_type": "markdown",
   "id": "c4221835",
   "metadata": {},
   "source": [
    "#### Rename Column"
   ]
  },
  {
   "cell_type": "code",
   "execution_count": 10,
   "id": "a39c63b8",
   "metadata": {},
   "outputs": [
    {
     "name": "stdout",
     "output_type": "stream",
     "text": [
      "\n",
      "Renamed columns in file C:\\FPT Polytechnic\\Project Tự Làm\\Điểm thi thpt 2020 - 2024\\diem_thi_2020_2021.csv: {'SBD': 'sbd', 'Toán': 'toan', 'Văn': 'ngu_van', 'Ngoại Ngữ': 'ngoai_ngu', 'Lý': 'vat_li', 'Hoá': 'hoa_hoc', 'Sinh': 'sinh_hoc', 'Lịch Sử': 'lich_su', 'Địa Lý': 'dia_li', 'GDCD': 'gdcd', 'Year': 'year'}\n"
     ]
    }
   ],
   "source": [
    "data.rename_columns({\n",
    "    \"2020_2021\": {\"SBD\": \"sbd\", \"Toán\": \"toan\", \"Văn\": \"ngu_van\", \"Ngoại Ngữ\": \"ngoai_ngu\", \"Lý\": \"vat_li\", \"Hoá\": \"hoa_hoc\", \n",
    "                  \"Sinh\": \"sinh_hoc\", \"Lịch Sử\": \"lich_su\", \"Địa Lý\": \"dia_li\", \"GDCD\": \"gdcd\", \"Year\": \"year\"}\n",
    "})\n"
   ]
  },
  {
   "cell_type": "markdown",
   "id": "41fa9df5",
   "metadata": {},
   "source": [
    "#### Check Information Data"
   ]
  },
  {
   "cell_type": "code",
   "execution_count": 11,
   "id": "2219e294",
   "metadata": {},
   "outputs": [
    {
     "name": "stdout",
     "output_type": "stream",
     "text": [
      "\n",
      "Check data: C:\\FPT Polytechnic\\Project Tự Làm\\Điểm thi thpt 2020 - 2024\\diem_thi_2020_2021.csv\n",
      "Row numbers: 1853286, Column numbers: 13\n",
      "Columns: ['sbd', 'toan', 'ngu_van', 'vat_li', 'hoa_hoc', 'sinh_hoc', 'lich_su', 'dia_li', 'gdcd', 'ngoai_ngu', 'year', 'code', 'province']\n",
      "Duplicate Values: 0\n",
      "------------------------------------------------------------\n",
      "\n",
      "Check data: C:\\FPT Polytechnic\\Project Tự Làm\\Điểm thi thpt 2020 - 2024\\diem_thi_thpt_2022.csv\n",
      "Row numbers: 995441, Column numbers: 10\n",
      "Columns: ['sbd', 'toan', 'ngu_van', 'ngoai_ngu', 'vat_li', 'hoa_hoc', 'sinh_hoc', 'lich_su', 'dia_li', 'gdcd']\n",
      "Duplicate Values: 0\n",
      "------------------------------------------------------------\n",
      "\n",
      "Check data: C:\\FPT Polytechnic\\Project Tự Làm\\Điểm thi thpt 2020 - 2024\\diem_thi_thpt_2023.csv\n",
      "Row numbers: 1022060, Column numbers: 10\n",
      "Columns: ['sbd', 'toan', 'ngu_van', 'ngoai_ngu', 'vat_li', 'hoa_hoc', 'sinh_hoc', 'lich_su', 'dia_li', 'gdcd']\n",
      "Duplicate Values: 0\n",
      "------------------------------------------------------------\n",
      "\n",
      "Check data: C:\\FPT Polytechnic\\Project Tự Làm\\Điểm thi thpt 2020 - 2024\\diem_thi_thpt_2024.csv\n",
      "Row numbers: 1061605, Column numbers: 10\n",
      "Columns: ['sbd', 'toan', 'ngu_van', 'ngoai_ngu', 'vat_li', 'hoa_hoc', 'sinh_hoc', 'lich_su', 'dia_li', 'gdcd']\n",
      "Duplicate Values: 0\n",
      "------------------------------------------------------------\n"
     ]
    }
   ],
   "source": [
    "data.check_data()"
   ]
  },
  {
   "cell_type": "markdown",
   "id": "c608fe78",
   "metadata": {},
   "source": [
    "#### Add columns code and year"
   ]
  },
  {
   "cell_type": "code",
   "execution_count": 12,
   "id": "618c9e49",
   "metadata": {},
   "outputs": [
    {
     "name": "stdout",
     "output_type": "stream",
     "text": [
      "'code' already exists in file: C:\\FPT Polytechnic\\Project Tự Làm\\Điểm thi thpt 2020 - 2024\\diem_thi_2020_2021.csv\n",
      "Add column 'code' to file: C:\\FPT Polytechnic\\Project Tự Làm\\Điểm thi thpt 2020 - 2024\\diem_thi_thpt_2022.csv\n",
      "Add column 'code' to file: C:\\FPT Polytechnic\\Project Tự Làm\\Điểm thi thpt 2020 - 2024\\diem_thi_thpt_2023.csv\n",
      "Add column 'code' to file: C:\\FPT Polytechnic\\Project Tự Làm\\Điểm thi thpt 2020 - 2024\\diem_thi_thpt_2024.csv\n"
     ]
    }
   ],
   "source": [
    "data.add_column_code_year()"
   ]
  },
  {
   "cell_type": "markdown",
   "id": "daa22cac",
   "metadata": {},
   "source": [
    "#### Check Information Data"
   ]
  },
  {
   "cell_type": "code",
   "execution_count": 13,
   "id": "43cc6210",
   "metadata": {},
   "outputs": [
    {
     "name": "stdout",
     "output_type": "stream",
     "text": [
      "\n",
      "Check data: C:\\FPT Polytechnic\\Project Tự Làm\\Điểm thi thpt 2020 - 2024\\diem_thi_2020_2021.csv\n",
      "Row numbers: 1853286, Column numbers: 13\n",
      "Columns: ['sbd', 'toan', 'ngu_van', 'vat_li', 'hoa_hoc', 'sinh_hoc', 'lich_su', 'dia_li', 'gdcd', 'ngoai_ngu', 'year', 'code', 'province']\n",
      "Duplicate Values: 0\n",
      "------------------------------------------------------------\n",
      "\n",
      "Check data: C:\\FPT Polytechnic\\Project Tự Làm\\Điểm thi thpt 2020 - 2024\\diem_thi_thpt_2022.csv\n",
      "Row numbers: 995441, Column numbers: 12\n",
      "Columns: ['sbd', 'toan', 'ngu_van', 'ngoai_ngu', 'vat_li', 'hoa_hoc', 'sinh_hoc', 'lich_su', 'dia_li', 'gdcd', 'code', 'year']\n",
      "Duplicate Values: 0\n",
      "------------------------------------------------------------\n",
      "\n",
      "Check data: C:\\FPT Polytechnic\\Project Tự Làm\\Điểm thi thpt 2020 - 2024\\diem_thi_thpt_2023.csv\n",
      "Row numbers: 1022060, Column numbers: 12\n",
      "Columns: ['sbd', 'toan', 'ngu_van', 'ngoai_ngu', 'vat_li', 'hoa_hoc', 'sinh_hoc', 'lich_su', 'dia_li', 'gdcd', 'code', 'year']\n",
      "Duplicate Values: 0\n",
      "------------------------------------------------------------\n",
      "\n",
      "Check data: C:\\FPT Polytechnic\\Project Tự Làm\\Điểm thi thpt 2020 - 2024\\diem_thi_thpt_2024.csv\n",
      "Row numbers: 1061605, Column numbers: 12\n",
      "Columns: ['sbd', 'toan', 'ngu_van', 'ngoai_ngu', 'vat_li', 'hoa_hoc', 'sinh_hoc', 'lich_su', 'dia_li', 'gdcd', 'code', 'year']\n",
      "Duplicate Values: 0\n",
      "------------------------------------------------------------\n"
     ]
    }
   ],
   "source": [
    "data.check_data()"
   ]
  }
 ],
 "metadata": {
  "kernelspec": {
   "display_name": "Python 3",
   "language": "python",
   "name": "python3"
  },
  "language_info": {
   "codemirror_mode": {
    "name": "ipython",
    "version": 3
   },
   "file_extension": ".py",
   "mimetype": "text/x-python",
   "name": "python",
   "nbconvert_exporter": "python",
   "pygments_lexer": "ipython3",
   "version": "3.11.9"
  }
 },
 "nbformat": 4,
 "nbformat_minor": 5
}
