{
 "cells": [
  {
   "cell_type": "code",
   "execution_count": 5,
   "id": "054635c6",
   "metadata": {},
   "outputs": [
    {
     "name": "stdout",
     "output_type": "stream",
     "text": [
      "Nam sinh: 23\n"
     ]
    }
   ],
   "source": [
    "class TeamA:\n",
    "    member = 0\n",
    "    def __init__(self, name, age):\n",
    "        self.name = name\n",
    "        self.age = age\n",
    "        TeamA.member += 1\n",
    "    def ngaysinh(self):\n",
    "        return 2025 - self.age\n",
    "\n",
    "mem1 = TeamA(\"Phi\", 23)\n",
    "print(\"Nam sinh: \" + str(mem1.age))"
   ]
  },
  {
   "cell_type": "code",
   "execution_count": null,
   "id": "470eb7bb",
   "metadata": {},
   "outputs": [],
   "source": [
    "import pandas as pd\n",
    "def read_csv():\n",
    "    "
   ]
  }
 ],
 "metadata": {
  "kernelspec": {
   "display_name": "Python 3",
   "language": "python",
   "name": "python3"
  },
  "language_info": {
   "codemirror_mode": {
    "name": "ipython",
    "version": 3
   },
   "file_extension": ".py",
   "mimetype": "text/x-python",
   "name": "python",
   "nbconvert_exporter": "python",
   "pygments_lexer": "ipython3",
   "version": "3.11.9"
  }
 },
 "nbformat": 4,
 "nbformat_minor": 5
}
